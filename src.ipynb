{
 "cells": [
  {
   "cell_type": "code",
   "execution_count": 1,
   "metadata": {},
   "outputs": [
    {
     "name": "stderr",
     "output_type": "stream",
     "text": [
      "C:\\Users\\moham\\Anaconda3\\lib\\site-packages\\requests\\__init__.py:91: RequestsDependencyWarning: urllib3 (1.26.4) or chardet (3.0.4) doesn't match a supported version!\n",
      "  RequestsDependencyWarning)\n"
     ]
    }
   ],
   "source": [
    "#imports here\n",
    "import time\n",
    "import csv\n",
    "import json, requests\n",
    "import re\n",
    "import itertools\n",
    "\n",
    "from selenium import webdriver\n",
    "from selenium.webdriver.common.keys import Keys\n",
    "from selenium.webdriver.support import expected_conditions as EC\n",
    "from selenium.webdriver.common.by import By\n",
    "from selenium.webdriver.support.wait import WebDriverWait\n",
    "from selenium.common.exceptions import NoSuchElementException\n",
    "from selenium import webdriver\n",
    "from selenium.webdriver.chrome.options import Options\n",
    "from bs4 import BeautifulSoup as bs"
   ]
  },
  {
   "cell_type": "markdown",
   "metadata": {},
   "source": [
    "## Helper functions "
   ]
  },
  {
   "cell_type": "code",
   "execution_count": 2,
   "metadata": {},
   "outputs": [],
   "source": [
    "def get_url_from_pagename(pagename):\n",
    "    return \"https://www.facebook.com/\"+pagename"
   ]
  },
  {
   "cell_type": "code",
   "execution_count": 3,
   "metadata": {},
   "outputs": [],
   "source": [
    "def scroll_end_of_pubs(driver):\n",
    "    SCROLL_PAUSE_TIME = 2\n",
    "\n",
    "    # Get scroll height\n",
    "    last_height = driver.execute_script(\"return document.body.scrollHeight\")\n",
    "\n",
    "    while True:\n",
    "        # Scroll down to bottom\n",
    "        driver.execute_script(\"window.scrollTo(0, document.body.scrollHeight);\")\n",
    "\n",
    "        # Wait to load page\n",
    "        time.sleep(SCROLL_PAUSE_TIME)\n",
    "\n",
    "        # Calculate new scroll height and compare with last scroll height\n",
    "        new_height = driver.execute_script(\"return document.body.scrollHeight\")\n",
    "        if new_height == last_height:\n",
    "            break\n",
    "        last_height = new_height"
   ]
  },
  {
   "cell_type": "code",
   "execution_count": 4,
   "metadata": {},
   "outputs": [],
   "source": [
    "def login_(driver):\n",
    "    with open('facebook_credentials.txt') as file:\n",
    "        EMAIL = file.readline().split('\"')[1]\n",
    "        PASSWORD = file.readline().split('\"')[1]\n",
    "    \n",
    "    #open the webpage\n",
    "    driver.get(\"http://www.facebook.com\")\n",
    "\n",
    "    #target username\n",
    "    username = WebDriverWait(driver, 10).until(EC.element_to_be_clickable((By.CSS_SELECTOR, \"input[name='email']\")))\n",
    "    password = WebDriverWait(driver, 10).until(EC.element_to_be_clickable((By.CSS_SELECTOR, \"input[name='pass']\")))\n",
    "    #enter username and password\n",
    "    username.clear()\n",
    "    username.send_keys(EMAIL)\n",
    "    password.clear()\n",
    "    password.send_keys(PASSWORD)\n",
    "    #target the validation & login button and click it\n",
    "    validation = WebDriverWait(driver, 5).until(EC.element_to_be_clickable(( \\\n",
    "                        By.CSS_SELECTOR, \"button[class='_42ft _4jy0 _9o-t _4jy3 _4jy1 selected _51sy']\"))).click()\n",
    "\n",
    "    button = WebDriverWait(driver, 5).until(EC.element_to_be_clickable(( \\\n",
    "                                                    By.CSS_SELECTOR, \"button[type='submit']\"))).click()\n",
    "    time.sleep(3)"
   ]
  },
  {
   "cell_type": "code",
   "execution_count": 5,
   "metadata": {},
   "outputs": [],
   "source": [
    "def get_urls_to_scrape_from_page(driver, REQUEST_LINK, keyword):\n",
    "    PAUSE_TIME = 3\n",
    "    #go to the page to scrape(ie: France 24)\n",
    "    driver.get(REQUEST_LINK)\n",
    "    time.sleep(PAUSE_TIME)\n",
    "\n",
    "    #click page search btn \n",
    "    page_search_btn=driver.find_element_by_class_name(\"h676nmdw\").find_element_by_xpath(\"//div[@aria-label='Rechercher']\")\n",
    "    page_search_btn.click()\n",
    "\n",
    "    #search for keyword\n",
    "    page_search_box = WebDriverWait(driver, 2).until(EC.element_to_be_clickable((By.XPATH, \"//input[@placeholder='Rechercher dans cette Page']\")))\n",
    "    page_search_box.clear()\n",
    "    page_search_box.send_keys(keyword)\n",
    "    time.sleep(PAUSE_TIME)\n",
    "    page_search_box.send_keys(Keys.ENTER)\n",
    "    time.sleep(PAUSE_TIME)\n",
    "\n",
    "    #Scroll to the end \n",
    "    scroll_end_of_pubs(driver)\n",
    "    time.sleep(PAUSE_TIME)\n",
    "    \n",
    "    #get all href urls for posts \n",
    "    anchors = driver.find_elements_by_tag_name('a')\n",
    "    urls_to_scrape = [a.get_attribute('href') for a in anchors]\n",
    "    urls_to_scrape = [url for url in urls_to_scrape if url.startswith(f'{REQUEST_LINK}/posts/')]\n",
    "    urls_to_scrape = [url.replace('www','mbasic') for url in urls_to_scrape]\n",
    "    #return urls to scrape\n",
    "    return urls_to_scrape"
   ]
  },
  {
   "cell_type": "code",
   "execution_count": 6,
   "metadata": {},
   "outputs": [],
   "source": [
    "def verify_button_exists(driver):\n",
    "    try:\n",
    "        #identify btn element\n",
    "        more_comments_btn = driver.find_element_by_css_selector(\"div[id^=see_next_]\")  #^= starts with\n",
    "        #url of 'more comments'\n",
    "        anchors = driver.find_elements_by_tag_name('a')\n",
    "        url_more_comments = [a.get_attribute('href') for a in anchors]\n",
    "        url_more_comments = [url for url in url_more_comments if url.startswith('https://mbasic.facebook.com/story.php?story_fbid=')][0]\n",
    "        \n",
    "        return True, more_comments_btn, url_more_comments\n",
    "    #NoSuchElementException thrown if not present\n",
    "    except NoSuchElementException:\n",
    "        return False, False, False"
   ]
  },
  {
   "cell_type": "code",
   "execution_count": 7,
   "metadata": {},
   "outputs": [],
   "source": [
    "def scraping_one_post(driver, url, author):\n",
    "    PAUSE_TIME = 3\n",
    "    LIMIT_COMMENTS = 30\n",
    "    dict_=dict()\n",
    "    comments_dict=dict()\n",
    "    \n",
    "    #go to post\n",
    "    driver.get(url)\n",
    "    time.sleep(PAUSE_TIME)\n",
    "    \n",
    "    #get author\n",
    "    publication_author = author\n",
    "    #get title\n",
    "    text = driver.find_elements_by_tag_name('p')\n",
    "    title = [p.text for p in text][0]\n",
    "    #get photo\n",
    "    photos = driver.find_elements_by_tag_name('img')\n",
    "    photos = [p.get_attribute('src') for p in photos if (p.get_attribute('role')=='presentation' and p.get_attribute('class')=='r')]\n",
    "    photos = [p for p in photos if p.startswith('https://external')]\n",
    "    photo = ''\n",
    "    if len(photos) > 0:\n",
    "        photo = photos[0]\n",
    "    #get publication date \n",
    "    dates = driver.find_elements_by_tag_name('abbr')\n",
    "    dates = [p.text for p in dates]\n",
    "    publication_date = dates[0]\n",
    "    \n",
    "    \n",
    "    #scrap comments \n",
    "    comments = []\n",
    "    comments_dates = []\n",
    "    comments_names = []\n",
    "    \n",
    "    while (verify_button_exists(driver)[0] and len(comments)<LIMIT_COMMENTS):\n",
    "        more_comments_btn = verify_button_exists(driver)[1]\n",
    "        url_more_comments = verify_button_exists(driver)[2]\n",
    "        #dates\n",
    "        page_dates = driver.find_elements_by_tag_name('abbr')\n",
    "        page_dates = [p.text for p in page_dates]\n",
    "        page_comments_dates = page_dates[1:]\n",
    "        #author \n",
    "        page_comments_names = driver.find_elements_by_tag_name('h3')\n",
    "        page_comments_names = [name.text for name in page_comments_names][2:]\n",
    "        #comment\n",
    "        #page_comments = driver.find_elements_by_class_name(\"br\")\n",
    "        page_comments = driver.find_elements_by_class_name(\"eg\")\n",
    "        page_comments = [comment.text for comment in page_comments]\n",
    "        #append to lists\n",
    "        for i in page_comments:\n",
    "            comments.append(i)\n",
    "        for i in page_comments_dates:\n",
    "            comments_dates.append(i)\n",
    "        for i in page_comments_names:\n",
    "            comments_names.append(i)\n",
    "        #go to more comments\n",
    "        #more_comments_btn.click()\n",
    "        driver.get(url_more_comments)\n",
    "        time.sleep(2)\n",
    "\n",
    "    #create comments dict\n",
    "    list_comment_id = [f'comment {i+1}' for i in range(len(comments))]\n",
    "    list_dict_comments_data = []\n",
    "    for i in range(min(len(comments_names),len(comments),len(comments_dates))):\n",
    "        d_temp={}\n",
    "        d_temp['author'] = comments_names[i]\n",
    "        d_temp['comment'] = comments[i]\n",
    "        d_temp['date'] = comments_dates[i]\n",
    "        list_dict_comments_data.append(d_temp)\n",
    "    \n",
    "    comments_dict = dict(zip(list_comment_id, list_dict_comments_data))\n",
    "    #create output dict \n",
    "    dict_['publication author'] = publication_author\n",
    "    dict_['title'] = title\n",
    "    dict_['photo'] = photo\n",
    "    dict_['publication date'] = publication_date\n",
    "    dict_['comments'] = comments_dict\n",
    "    \n",
    "    return dict_"
   ]
  },
  {
   "cell_type": "markdown",
   "metadata": {},
   "source": [
    "## Main function"
   ]
  },
  {
   "cell_type": "code",
   "execution_count": 8,
   "metadata": {},
   "outputs": [],
   "source": [
    "chrome_options = Options()\n",
    "prefs = {\"profile.default_content_setting_values.notifications\" : 2}\n",
    "chrome_options.add_experimental_option(\"prefs\",prefs)\n",
    "chrome_options.add_argument(\"--disable-infobars\")\n",
    "chrome_options.add_argument(\"start-maximized\")\n",
    "chrome_options.add_argument(\"--disable-extensions\")"
   ]
  },
  {
   "cell_type": "code",
   "execution_count": 9,
   "metadata": {},
   "outputs": [],
   "source": [
    "pages_to_scrape = [\"FRANCE24\", \"lemonde.fr\", \"franceinfo\"]  \n",
    "keyword = \"Jacques chirac décès\"\n",
    "#specify the path to chromedriver.exe (download and save on your computer)\n",
    "driver = webdriver.Chrome('chromedriver.exe', options=chrome_options)\n",
    "#login \n",
    "login_(driver)"
   ]
  },
  {
   "cell_type": "code",
   "execution_count": 10,
   "metadata": {},
   "outputs": [
    {
     "name": "stdout",
     "output_type": "stream",
     "text": [
      "Page = FRANCE24\n",
      "Nb of urls = 34\n",
      "['https://mbasic.facebook.com/FRANCE24/posts/10157122140041936', 'https://mbasic.facebook.com/FRANCE24/posts/10157122326086936', 'https://mbasic.facebook.com/FRANCE24/posts/10157122078016936', 'https://mbasic.facebook.com/FRANCE24/posts/10157122516426936', 'https://mbasic.facebook.com/FRANCE24/posts/10157123831226936', 'https://mbasic.facebook.com/FRANCE24/posts/10157122345146936', 'https://mbasic.facebook.com/FRANCE24/posts/10157427165806936', 'https://mbasic.facebook.com/FRANCE24/posts/10157122109541936', 'https://mbasic.facebook.com/FRANCE24/posts/10157126083221936', 'https://mbasic.facebook.com/FRANCE24/posts/10157122334311936', 'https://mbasic.facebook.com/FRANCE24/posts/10157122901531936', 'https://mbasic.facebook.com/FRANCE24/posts/10157123020366936', 'https://mbasic.facebook.com/FRANCE24/posts/10157122849001936', 'https://mbasic.facebook.com/FRANCE24/posts/10157122407256936', 'https://mbasic.facebook.com/FRANCE24/posts/10158871707901936', 'https://mbasic.facebook.com/FRANCE24/posts/10158902267041936', 'https://mbasic.facebook.com/FRANCE24/posts/10157122191081936', 'https://mbasic.facebook.com/FRANCE24/posts/10158440401421936', 'https://mbasic.facebook.com/FRANCE24/posts/10157125208061936', 'https://mbasic.facebook.com/FRANCE24/posts/10157122466731936', 'https://mbasic.facebook.com/FRANCE24/posts/10157122663931936', 'https://mbasic.facebook.com/FRANCE24/posts/10158161667336936', 'https://mbasic.facebook.com/FRANCE24/posts/10157125147851936', 'https://mbasic.facebook.com/FRANCE24/posts/10157441882741936', 'https://mbasic.facebook.com/FRANCE24/posts/10157131486621936', 'https://mbasic.facebook.com/FRANCE24/posts/10154044672581936', 'https://mbasic.facebook.com/FRANCE24/posts/10157122437491936', 'https://mbasic.facebook.com/FRANCE24/posts/10157135372676936', 'https://mbasic.facebook.com/FRANCE24/posts/10154649272386936', 'https://mbasic.facebook.com/FRANCE24/posts/10154046316161936', 'https://mbasic.facebook.com/FRANCE24/posts/10155769916806936', 'https://mbasic.facebook.com/FRANCE24/posts/10157122219831936', 'https://mbasic.facebook.com/FRANCE24/posts/10154062007596936', 'https://mbasic.facebook.com/FRANCE24/posts/10152222826257247']\n",
      "Page = lemonde.fr\n",
      "Nb of urls = 47\n",
      "['https://mbasic.facebook.com/lemonde.fr/posts/10158083490782590', 'https://mbasic.facebook.com/lemonde.fr/posts/10158083450467590', 'https://mbasic.facebook.com/lemonde.fr/posts/10158084037817590', 'https://mbasic.facebook.com/lemonde.fr/posts/10158094723517590', 'https://mbasic.facebook.com/lemonde.fr/posts/10158083785632590', 'https://mbasic.facebook.com/lemonde.fr/posts/10158091373032590', 'https://mbasic.facebook.com/lemonde.fr/posts/10158084592852590', 'https://mbasic.facebook.com/lemonde.fr/posts/10158084891127590', 'https://mbasic.facebook.com/lemonde.fr/posts/10154598948017590', 'https://mbasic.facebook.com/lemonde.fr/posts/10158421465637590', 'https://mbasic.facebook.com/lemonde.fr/posts/10158218504407590', 'https://mbasic.facebook.com/lemonde.fr/posts/10154703969442590', 'https://mbasic.facebook.com/lemonde.fr/posts/10158086395707590', 'https://mbasic.facebook.com/lemonde.fr/posts/10158730436252590', 'https://mbasic.facebook.com/lemonde.fr/posts/10158099260057590', 'https://mbasic.facebook.com/lemonde.fr/posts/10158096560657590', 'https://mbasic.facebook.com/lemonde.fr/posts/10158085197872590', 'https://mbasic.facebook.com/lemonde.fr/posts/10158085021257590', 'https://mbasic.facebook.com/lemonde.fr/posts/10158086209652590', 'https://mbasic.facebook.com/lemonde.fr/posts/10154774132527590', 'https://mbasic.facebook.com/lemonde.fr/posts/10154240084782590', 'https://mbasic.facebook.com/lemonde.fr/posts/10158088103052590', 'https://mbasic.facebook.com/lemonde.fr/posts/10158095882947590', 'https://mbasic.facebook.com/lemonde.fr/posts/10158086941212590', 'https://mbasic.facebook.com/lemonde.fr/posts/10158086298407590', 'https://mbasic.facebook.com/lemonde.fr/posts/10158084381862590', 'https://mbasic.facebook.com/lemonde.fr/posts/10158086536852590', 'https://mbasic.facebook.com/lemonde.fr/posts/10158084951782590', 'https://mbasic.facebook.com/lemonde.fr/posts/10158096245277590', 'https://mbasic.facebook.com/lemonde.fr/posts/10158084461817590', 'https://mbasic.facebook.com/lemonde.fr/posts/10153944620567590', 'https://mbasic.facebook.com/lemonde.fr/posts/10158109956052590', 'https://mbasic.facebook.com/lemonde.fr/posts/10154694444212590', 'https://mbasic.facebook.com/lemonde.fr/posts/10158086685917590', 'https://mbasic.facebook.com/lemonde.fr/posts/10159556952112590', 'https://mbasic.facebook.com/lemonde.fr/posts/10158086495897590', 'https://mbasic.facebook.com/lemonde.fr/posts/10158086475792590', 'https://mbasic.facebook.com/lemonde.fr/posts/10153877562572590', 'https://mbasic.facebook.com/lemonde.fr/posts/10158096418367590', 'https://mbasic.facebook.com/lemonde.fr/posts/10152196476304871', 'https://mbasic.facebook.com/lemonde.fr/posts/10152762994037590', 'https://mbasic.facebook.com/lemonde.fr/posts/10153234573412590', 'https://mbasic.facebook.com/lemonde.fr/posts/10158083639612590', 'https://mbasic.facebook.com/lemonde.fr/posts/10155414305272590', 'https://mbasic.facebook.com/lemonde.fr/posts/10158095377127590', 'https://mbasic.facebook.com/lemonde.fr/posts/289505731085073', 'https://mbasic.facebook.com/lemonde.fr/posts/258709330830225']\n",
      "Page = franceinfo\n",
      "Nb of urls = 46\n",
      "['https://mbasic.facebook.com/franceinfo/posts/1309931839454497', 'https://mbasic.facebook.com/franceinfo/posts/968412390273112', 'https://mbasic.facebook.com/franceinfo/posts/1246202829160732', 'https://mbasic.facebook.com/franceinfo/posts/969775943470090', 'https://mbasic.facebook.com/franceinfo/posts/969547546826263', 'https://mbasic.facebook.com/franceinfo/posts/968574503590234', 'https://mbasic.facebook.com/franceinfo/posts/969486440165707', 'https://mbasic.facebook.com/franceinfo/posts/972129706568047', 'https://mbasic.facebook.com/franceinfo/posts/969269536854064', 'https://mbasic.facebook.com/franceinfo/posts/970243980089953', 'https://mbasic.facebook.com/franceinfo/posts/970943690019982', 'https://mbasic.facebook.com/franceinfo/posts/1113914125722937', 'https://mbasic.facebook.com/franceinfo/posts/968521886928829', 'https://mbasic.facebook.com/franceinfo/posts/971112523336432', 'https://mbasic.facebook.com/franceinfo/posts/969209930193358', 'https://mbasic.facebook.com/franceinfo/posts/969164066864611', 'https://mbasic.facebook.com/franceinfo/posts/968789120235439', 'https://mbasic.facebook.com/franceinfo/posts/971705563277128', 'https://mbasic.facebook.com/franceinfo/posts/971279796653038', 'https://mbasic.facebook.com/franceinfo/posts/1481173752330304', 'https://mbasic.facebook.com/franceinfo/posts/1482431048871241', 'https://mbasic.facebook.com/franceinfo/posts/1482447515536261', 'https://mbasic.facebook.com/franceinfo/posts/1482329752214704', 'https://mbasic.facebook.com/franceinfo/posts/1009695006144850', 'https://mbasic.facebook.com/franceinfo/posts/971671203280564', 'https://mbasic.facebook.com/franceinfo/posts/968671366913881', 'https://mbasic.facebook.com/franceinfo/posts/970963573351327', 'https://mbasic.facebook.com/franceinfo/posts/968600020254349', 'https://mbasic.facebook.com/franceinfo/posts/969642073483477', 'https://mbasic.facebook.com/franceinfo/posts/968460583601626', 'https://mbasic.facebook.com/franceinfo/posts/968422890272062', 'https://mbasic.facebook.com/franceinfo/posts/971807146600303', 'https://mbasic.facebook.com/franceinfo/posts/972757926505225', 'https://mbasic.facebook.com/franceinfo/posts/968854420228909', 'https://mbasic.facebook.com/franceinfo/posts/968499490264402', 'https://mbasic.facebook.com/franceinfo/posts/970315616749456', 'https://mbasic.facebook.com/franceinfo/posts/180839412363751', 'https://mbasic.facebook.com/franceinfo/posts/968447710269580', 'https://mbasic.facebook.com/franceinfo/posts/970880250026326', 'https://mbasic.facebook.com/franceinfo/posts/970552616725756', 'https://mbasic.facebook.com/franceinfo/posts/970952230019128', 'https://mbasic.facebook.com/franceinfo/posts/968760643571620', 'https://mbasic.facebook.com/franceinfo/posts/968422230272128', 'https://mbasic.facebook.com/franceinfo/posts/971968856584132', 'https://mbasic.facebook.com/franceinfo/posts/969708670143484', 'https://mbasic.facebook.com/franceinfo/posts/972157716565246']\n"
     ]
    }
   ],
   "source": [
    "big_dict = []\n",
    "n_posts_limit = 25\n",
    "#go to page + search for keyword + return urls to scrape\n",
    "for page_to_scrape in pages_to_scrape:\n",
    "    REQUEST_LINK = get_url_from_pagename(page_to_scrape)\n",
    "    urls_to_scrape = get_urls_to_scrape_from_page(driver, REQUEST_LINK, keyword)\n",
    "    print('Page = '+str(page_to_scrape),'Nb of urls = '+str(len(urls_to_scrape)), urls_to_scrape, sep='\\n')\n",
    "    #scrapping + making dict from results \n",
    "    n_start = len(big_dict)\n",
    "    n_end = len(big_dict)+min(n_posts_limit,len(urls_to_scrape)) \n",
    "    n_scrape = 0 #counter for urls_to_scrape\n",
    "    for i in range(n_start,n_end):\n",
    "        #append two dicts to create id for mongo\n",
    "        d_1 = {\"_id\":i+1}\n",
    "        d_2 = scraping_one_post(driver, urls_to_scrape[n_scrape], page_to_scrape.split('.')[0])\n",
    "        n_scrape+=1\n",
    "        d_tmp= dict(d_1)\n",
    "        d_tmp.update(d_2)\n",
    "        big_dict.append(d_tmp)\n",
    "driver.close()"
   ]
  },
  {
   "cell_type": "markdown",
   "metadata": {},
   "source": [
    "## Mongo DB"
   ]
  },
  {
   "cell_type": "markdown",
   "metadata": {},
   "source": [
    "#### Scraping DB"
   ]
  },
  {
   "cell_type": "code",
   "execution_count": 13,
   "metadata": {},
   "outputs": [],
   "source": [
    "import pymongo\n",
    "from pymongo import MongoClient\n",
    "client = #ENTER YOUR MONGO DB CLIENT HERE\n",
    "db = client[\"test\"]\n",
    "collection = db[\"test\"]"
   ]
  },
  {
   "cell_type": "code",
   "execution_count": null,
   "metadata": {},
   "outputs": [],
   "source": [
    "collection.insert_many([post for post in big_dict])"
   ]
  },
  {
   "cell_type": "code",
   "execution_count": null,
   "metadata": {},
   "outputs": [],
   "source": []
  }
 ],
 "metadata": {
  "kernelspec": {
   "display_name": "Python 3",
   "language": "python",
   "name": "python3"
  },
  "language_info": {
   "codemirror_mode": {
    "name": "ipython",
    "version": 3
   },
   "file_extension": ".py",
   "mimetype": "text/x-python",
   "name": "python",
   "nbconvert_exporter": "python",
   "pygments_lexer": "ipython3",
   "version": "3.6.9"
  }
 },
 "nbformat": 4,
 "nbformat_minor": 4
}
